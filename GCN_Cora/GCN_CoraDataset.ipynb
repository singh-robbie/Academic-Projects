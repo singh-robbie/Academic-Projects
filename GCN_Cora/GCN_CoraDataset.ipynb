{
 "cells": [
  {
   "cell_type": "code",
   "execution_count": 3,
   "metadata": {
    "colab": {
     "base_uri": "https://localhost:8080/"
    },
    "id": "kMayv5LYXruq",
    "outputId": "75692e33-2dcd-4457-8d1a-f6ef53071e22"
   },
   "outputs": [
    {
     "name": "stderr",
     "output_type": "stream",
     "text": [
      "DGL backend not selected or invalid.  Assuming PyTorch for now.\n"
     ]
    },
    {
     "name": "stdout",
     "output_type": "stream",
     "text": [
      "Setting the default backend to \"pytorch\". You can change it in the ~/.dgl/config.json file or export the DGLBACKEND environment variable.  Valid options are: pytorch, mxnet, tensorflow (all lowercase)\n",
      "Downloading C:\\Users\\rabgu\\.dgl\\cora_v2.zip from https://data.dgl.ai/dataset/cora_v2.zip...\n",
      "Extracting file to C:\\Users\\rabgu\\.dgl\\cora_v2\n",
      "Finished data loading and preprocessing.\n",
      "  NumNodes: 2708\n",
      "  NumEdges: 10556\n",
      "  NumFeats: 1433\n",
      "  NumClasses: 7\n",
      "  NumTrainingSamples: 140\n",
      "  NumValidationSamples: 500\n",
      "  NumTestSamples: 1000\n",
      "Done saving data into cached files.\n"
     ]
    }
   ],
   "source": [
    "import dgl\n",
    "from dgl.nn import GraphConv\n",
    "from pyvis.network import Network\n",
    "import torch\n",
    "import torch.nn as nn\n",
    "import torch.nn.functional as F\n",
    "import dgl.data\n",
    "import matplotlib.pyplot as plt\n",
    "import networkx as nx\n",
    "import numpy as np\n",
    "dataset = dgl.data.CoraGraphDataset()\n",
    "g = dataset[0]\n",
    "epochs = 100"
   ]
  },
  {
   "cell_type": "code",
   "execution_count": 4,
   "metadata": {
    "colab": {
     "base_uri": "https://localhost:8080/",
     "height": 217
    },
    "id": "Xc28ikranUGE",
    "outputId": "b125c19f-eb0e-4fc5-fdb7-39fe68993284"
   },
   "outputs": [
    {
     "name": "stdout",
     "output_type": "stream",
     "text": [
      "Local cdn resources have problems on chrome/safari when used in jupyter-notebook. \n"
     ]
    },
    {
     "data": {
      "text/html": [
       "\n",
       "        <iframe\n",
       "            width=\"800\"\n",
       "            height=\"800\"\n",
       "            src=\"visual.html\"\n",
       "            frameborder=\"0\"\n",
       "            allowfullscreen\n",
       "            \n",
       "        ></iframe>\n",
       "        "
      ],
      "text/plain": [
       "<IPython.lib.display.IFrame at 0x1a852bfd610>"
      ]
     },
     "execution_count": 4,
     "metadata": {},
     "output_type": "execute_result"
    }
   ],
   "source": [
    "g_vis = Network(height=800, width=800, notebook=True)\n",
    "\n",
    "netxG = nx.Graph(g.to_networkx())\n",
    "\n",
    "mapping = {i:i for i in range(netxG.size())} #Setting mapping for the relabeling\n",
    "netxH = nx.relabel_nodes(netxG,mapping) #relabeling nodes\n",
    "\n",
    "g_vis.from_nx(netxH)\n",
    "g_vis.show('visual.html')"
   ]
  },
  {
   "cell_type": "code",
   "execution_count": 5,
   "metadata": {
    "id": "FSuZ_eRKX20p"
   },
   "outputs": [],
   "source": [
    "class GCN(nn.Module):\n",
    "    def __init__(self, in_feats, h_feats, num_classes):\n",
    "        super(GCN, self).__init__()\n",
    "        self.conv1 = GraphConv(in_feats, h_feats)\n",
    "        self.conv2 = GraphConv(h_feats, num_classes)\n",
    "\n",
    "    def forward(self, g, in_feat):\n",
    "        h = self.conv1(g, in_feat)\n",
    "        h = F.relu(h)\n",
    "        h = self.conv2(g, h)\n",
    "        return h\n",
    "# Create the model with given dimensions\n",
    "model = GCN(g.ndata['feat'].shape[1], 16, dataset.num_classes)"
   ]
  },
  {
   "cell_type": "code",
   "execution_count": 6,
   "metadata": {
    "colab": {
     "base_uri": "https://localhost:8080/"
    },
    "id": "i2dDTPhjZ_dC",
    "outputId": "7e75a17e-76bb-457d-dedd-2ebc655ffde7"
   },
   "outputs": [
    {
     "name": "stdout",
     "output_type": "stream",
     "text": [
      "In epoch 0, loss: 1.946, val acc: 0.218 (best 0.218), test acc: 0.201 (best 0.201)\n",
      "In epoch 5, loss: 1.897, val acc: 0.494 (best 0.522), test acc: 0.517 (best 0.555)\n",
      "In epoch 10, loss: 1.818, val acc: 0.560 (best 0.560), test acc: 0.587 (best 0.587)\n",
      "In epoch 15, loss: 1.716, val acc: 0.578 (best 0.578), test acc: 0.594 (best 0.594)\n",
      "In epoch 20, loss: 1.591, val acc: 0.654 (best 0.654), test acc: 0.650 (best 0.650)\n",
      "In epoch 25, loss: 1.447, val acc: 0.688 (best 0.690), test acc: 0.686 (best 0.685)\n",
      "In epoch 30, loss: 1.289, val acc: 0.704 (best 0.704), test acc: 0.689 (best 0.689)\n",
      "In epoch 35, loss: 1.125, val acc: 0.714 (best 0.714), test acc: 0.713 (best 0.706)\n",
      "In epoch 40, loss: 0.961, val acc: 0.720 (best 0.720), test acc: 0.736 (best 0.736)\n",
      "In epoch 45, loss: 0.805, val acc: 0.726 (best 0.726), test acc: 0.742 (best 0.742)\n",
      "In epoch 50, loss: 0.663, val acc: 0.736 (best 0.736), test acc: 0.751 (best 0.751)\n",
      "In epoch 55, loss: 0.539, val acc: 0.738 (best 0.738), test acc: 0.759 (best 0.752)\n",
      "In epoch 60, loss: 0.436, val acc: 0.754 (best 0.754), test acc: 0.765 (best 0.765)\n",
      "In epoch 65, loss: 0.352, val acc: 0.760 (best 0.760), test acc: 0.770 (best 0.769)\n",
      "In epoch 70, loss: 0.285, val acc: 0.762 (best 0.762), test acc: 0.774 (best 0.774)\n",
      "In epoch 75, loss: 0.232, val acc: 0.766 (best 0.766), test acc: 0.779 (best 0.779)\n",
      "In epoch 80, loss: 0.190, val acc: 0.766 (best 0.766), test acc: 0.778 (best 0.779)\n",
      "In epoch 85, loss: 0.158, val acc: 0.772 (best 0.772), test acc: 0.780 (best 0.779)\n",
      "In epoch 90, loss: 0.132, val acc: 0.778 (best 0.778), test acc: 0.778 (best 0.778)\n",
      "In epoch 95, loss: 0.112, val acc: 0.778 (best 0.778), test acc: 0.779 (best 0.778)\n"
     ]
    }
   ],
   "source": [
    "def train(g, model):\n",
    "    optimizer = torch.optim.Adam(model.parameters(), lr=0.01)\n",
    "    best_val_acc = 0\n",
    "    best_test_acc = 0\n",
    "    trainaccall = []\n",
    "    testaccall = []\n",
    "    features = g.ndata['feat']\n",
    "    labels = g.ndata['label']\n",
    "    train_mask = g.ndata['train_mask']\n",
    "    val_mask = g.ndata['val_mask']\n",
    "    test_mask = g.ndata['test_mask']\n",
    "    for e in range(epochs):\n",
    "        # Forward\n",
    "        logits = model(g, features)\n",
    "\n",
    "        # Compute prediction\n",
    "        pred = logits.argmax(1)\n",
    "\n",
    "        # Compute loss\n",
    "        loss = F.cross_entropy(logits[train_mask], labels[train_mask])\n",
    "\n",
    "        # Compute accuracy on training/validation/test\n",
    "        train_acc = (pred[train_mask] == labels[train_mask]).float().mean()\n",
    "        val_acc = (pred[val_mask] == labels[val_mask]).float().mean()\n",
    "        test_acc = (pred[test_mask] == labels[test_mask]).float().mean()\n",
    "\n",
    "        # Save the best validation accuracy and the corresponding test accuracy.\n",
    "        if best_val_acc < val_acc:\n",
    "            best_val_acc = val_acc\n",
    "            best_test_acc = test_acc\n",
    "        trainaccall.append(train_acc)\n",
    "        testaccall.append(test_acc)\n",
    "        # Backward\n",
    "        optimizer.zero_grad()\n",
    "        loss.backward()\n",
    "        optimizer.step()\n",
    "\n",
    "        if e % 5 == 0:\n",
    "            print('In epoch {}, loss: {:.3f}, val acc: {:.3f} (best {:.3f}), test acc: {:.3f} (best {:.3f})'.format(\n",
    "                e, loss, val_acc, best_val_acc, test_acc, best_test_acc))\n",
    "    return trainaccall, testaccall\n",
    "model = GCN(g.ndata['feat'].shape[1], 16, dataset.num_classes)\n",
    "trainaccall, testaccall = train(g, model)"
   ]
  },
  {
   "cell_type": "code",
   "execution_count": 7,
   "metadata": {
    "colab": {
     "base_uri": "https://localhost:8080/",
     "height": 295
    },
    "id": "NbxDFzB9aMZA",
    "outputId": "abcc02b7-9665-4970-990e-d57d4b559f08"
   },
   "outputs": [
    {
     "data": {
      "image/png": "[encoded data removed]",
      "text/plain": [
       "<Figure size 640x480 with 1 Axes>"
      ]
     },
     "metadata": {},
     "output_type": "display_data"
    }
   ],
   "source": [
    "plt.plot(np.arange(1,epochs+1),trainaccall, label='Training accuracy', c='blue')\n",
    "plt.plot(np.arange(1,epochs+1),testaccall, label='Test accuracy', c='red')\n",
    "plt.xlabel('Epochs')\n",
    "plt.ylabel('Accurarcy')\n",
    "plt.title('GCN')\n",
    "plt.legend(loc='lower right', fontsize='x-large')\n",
    "plt.show()"
   ]
  },
  {
   "cell_type": "code",
   "execution_count": null,
   "metadata": {},
   "outputs": [],
   "source": []
  }
 ],
 "metadata": {
  "colab": {
   "provenance": []
  },
  "kernelspec": {
   "display_name": "Python 3 (ipykernel)",
   "language": "python",
   "name": "python3"
  },
  "language_info": {
   "codemirror_mode": {
    "name": "ipython",
    "version": 3
   },
   "file_extension": ".py",
   "mimetype": "text/x-python",
   "name": "python",
   "nbconvert_exporter": "python",
   "pygments_lexer": "ipython3",
   "version": "3.9.13"
  }
 },
 "nbformat": 4,
 "nbformat_minor": 1
}
