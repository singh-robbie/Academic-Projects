{
  "cells": [
    {
      "cell_type": "markdown",
      "metadata": {
        "id": "vY4SK0xKAJgm"
      },
      "source": [
        "# Same as 1_lstm.ipynb but with packed sequences"
      ]
    },
    {
      "cell_type": "code",
      "execution_count": 1,
      "metadata": {
        "id": "moNmVfuvnImW"
      },
      "outputs": [],
      "source": [
        "# %load_ext watermark\n",
        "# %watermark -a 'Sebastian Raschka' -v -p torch,torchtext\n",
        "\n",
        "import torch\n",
        "import torch.nn.functional as F\n",
        "import torchtext\n",
        "import time\n",
        "import random\n",
        "import pandas as pd\n",
        "\n",
        "torch.backends.cudnn.deterministic = True"
      ]
    },
    {
      "cell_type": "markdown",
      "metadata": {
        "id": "GSRL42Qgy8I8"
      },
      "source": [
        "## General Settings"
      ]
    },
    {
      "cell_type": "code",
      "execution_count": 2,
      "metadata": {
        "id": "OvW1RgfepCBq"
      },
      "outputs": [],
      "source": [
        "RANDOM_SEED = 123\n",
        "torch.manual_seed(RANDOM_SEED)\n",
        "\n",
        "VOCABULARY_SIZE = 20000\n",
        "LEARNING_RATE = 0.005\n",
        "BATCH_SIZE = 128\n",
        "NUM_EPOCHS = 4\n",
        "DEVICE = torch.device('cpu')\n",
        "\n",
        "EMBEDDING_DIM = 128\n",
        "HIDDEN_DIM = 256\n",
        "NUM_CLASSES = 4"
      ]
    },
    {
      "cell_type": "markdown",
      "metadata": {
        "id": "mQMmKUEisW4W"
      },
      "source": [
        "## Download Dataset"
      ]
    },
    {
      "cell_type": "markdown",
      "metadata": {
        "id": "nSJnEZJFQ2D_"
      },
      "source": [
        "The following cells will download the IMDB movie review dataset (http://ai.stanford.edu/~amaas/data/sentiment/) for positive-negative sentiment classification in as CSV-formatted file:\n",
        "\n",
        "I had a hard time working with gunzip since the file isn't in the correct format so I downloaded and unzipped the file, then used it."
      ]
    },
    {
      "cell_type": "code",
      "execution_count": 3,
      "metadata": {
        "id": "SYvZn3vSQ2EB",
        "outputId": "03c8b1b6-a175-4e8b-e3d7-ac07f5c72bab",
        "colab": {
          "base_uri": "https://localhost:8080/",
          "height": 206
        }
      },
      "outputs": [
        {
          "output_type": "execute_result",
          "data": {
            "text/plain": [
              "                                    TEXT_COLUMN_NAME LABEL_COLUMN_NAME\n",
              "0  Fed official says weak data caused by weather,...                 b\n",
              "1  Fed's Charles Plosser sees high bar for change...                 b\n",
              "2  US open: Stocks fall after Fed official hints ...                 b\n",
              "3  Fed risks falling 'behind the curve', Charles ...                 b\n",
              "4  Fed's Plosser: Nasty Weather Has Curbed Job Gr...                 b"
            ],
            "text/html": [
              "\n",
              "  <div id=\"df-d1e900ea-e6d7-40db-ba72-a9e67edd9b24\">\n",
              "    <div class=\"colab-df-container\">\n",
              "      <div>\n",
              "<style scoped>\n",
              "    .dataframe tbody tr th:only-of-type {\n",
              "        vertical-align: middle;\n",
              "    }\n",
              "\n",
              "    .dataframe tbody tr th {\n",
              "        vertical-align: top;\n",
              "    }\n",
              "\n",
              "    .dataframe thead th {\n",
              "        text-align: right;\n",
              "    }\n",
              "</style>\n",
              "<table border=\"1\" class=\"dataframe\">\n",
              "  <thead>\n",
              "    <tr style=\"text-align: right;\">\n",
              "      <th></th>\n",
              "      <th>TEXT_COLUMN_NAME</th>\n",
              "      <th>LABEL_COLUMN_NAME</th>\n",
              "    </tr>\n",
              "  </thead>\n",
              "  <tbody>\n",
              "    <tr>\n",
              "      <th>0</th>\n",
              "      <td>Fed official says weak data caused by weather,...</td>\n",
              "      <td>b</td>\n",
              "    </tr>\n",
              "    <tr>\n",
              "      <th>1</th>\n",
              "      <td>Fed's Charles Plosser sees high bar for change...</td>\n",
              "      <td>b</td>\n",
              "    </tr>\n",
              "    <tr>\n",
              "      <th>2</th>\n",
              "      <td>US open: Stocks fall after Fed official hints ...</td>\n",
              "      <td>b</td>\n",
              "    </tr>\n",
              "    <tr>\n",
              "      <th>3</th>\n",
              "      <td>Fed risks falling 'behind the curve', Charles ...</td>\n",
              "      <td>b</td>\n",
              "    </tr>\n",
              "    <tr>\n",
              "      <th>4</th>\n",
              "      <td>Fed's Plosser: Nasty Weather Has Curbed Job Gr...</td>\n",
              "      <td>b</td>\n",
              "    </tr>\n",
              "  </tbody>\n",
              "</table>\n",
              "</div>\n",
              "      <button class=\"colab-df-convert\" onclick=\"convertToInteractive('df-d1e900ea-e6d7-40db-ba72-a9e67edd9b24')\"\n",
              "              title=\"Convert this dataframe to an interactive table.\"\n",
              "              style=\"display:none;\">\n",
              "        \n",
              "  <svg xmlns=\"http://www.w3.org/2000/svg\" height=\"24px\"viewBox=\"0 0 24 24\"\n",
              "       width=\"24px\">\n",
              "    <path d=\"M0 0h24v24H0V0z\" fill=\"none\"/>\n",
              "    <path d=\"M18.56 5.44l.94 2.06.94-2.06 2.06-.94-2.06-.94-.94-2.06-.94 2.06-2.06.94zm-11 1L8.5 8.5l.94-2.06 2.06-.94-2.06-.94L8.5 2.5l-.94 2.06-2.06.94zm10 10l.94 2.06.94-2.06 2.06-.94-2.06-.94-.94-2.06-.94 2.06-2.06.94z\"/><path d=\"M17.41 7.96l-1.37-1.37c-.4-.4-.92-.59-1.43-.59-.52 0-1.04.2-1.43.59L10.3 9.45l-7.72 7.72c-.78.78-.78 2.05 0 2.83L4 21.41c.39.39.9.59 1.41.59.51 0 1.02-.2 1.41-.59l7.78-7.78 2.81-2.81c.8-.78.8-2.07 0-2.86zM5.41 20L4 18.59l7.72-7.72 1.47 1.35L5.41 20z\"/>\n",
              "  </svg>\n",
              "      </button>\n",
              "      \n",
              "  <style>\n",
              "    .colab-df-container {\n",
              "      display:flex;\n",
              "      flex-wrap:wrap;\n",
              "      gap: 12px;\n",
              "    }\n",
              "\n",
              "    .colab-df-convert {\n",
              "      background-color: #E8F0FE;\n",
              "      border: none;\n",
              "      border-radius: 50%;\n",
              "      cursor: pointer;\n",
              "      display: none;\n",
              "      fill: #1967D2;\n",
              "      height: 32px;\n",
              "      padding: 0 0 0 0;\n",
              "      width: 32px;\n",
              "    }\n",
              "\n",
              "    .colab-df-convert:hover {\n",
              "      background-color: #E2EBFA;\n",
              "      box-shadow: 0px 1px 2px rgba(60, 64, 67, 0.3), 0px 1px 3px 1px rgba(60, 64, 67, 0.15);\n",
              "      fill: #174EA6;\n",
              "    }\n",
              "\n",
              "    [theme=dark] .colab-df-convert {\n",
              "      background-color: #3B4455;\n",
              "      fill: #D2E3FC;\n",
              "    }\n",
              "\n",
              "    [theme=dark] .colab-df-convert:hover {\n",
              "      background-color: #434B5C;\n",
              "      box-shadow: 0px 1px 3px 1px rgba(0, 0, 0, 0.15);\n",
              "      filter: drop-shadow(0px 1px 2px rgba(0, 0, 0, 0.3));\n",
              "      fill: #FFFFFF;\n",
              "    }\n",
              "  </style>\n",
              "\n",
              "      <script>\n",
              "        const buttonEl =\n",
              "          document.querySelector('#df-d1e900ea-e6d7-40db-ba72-a9e67edd9b24 button.colab-df-convert');\n",
              "        buttonEl.style.display =\n",
              "          google.colab.kernel.accessAllowed ? 'block' : 'none';\n",
              "\n",
              "        async function convertToInteractive(key) {\n",
              "          const element = document.querySelector('#df-d1e900ea-e6d7-40db-ba72-a9e67edd9b24');\n",
              "          const dataTable =\n",
              "            await google.colab.kernel.invokeFunction('convertToInteractive',\n",
              "                                                     [key], {});\n",
              "          if (!dataTable) return;\n",
              "\n",
              "          const docLinkHtml = 'Like what you see? Visit the ' +\n",
              "            '<a target=\"_blank\" href=https://colab.research.google.com/notebooks/data_table.ipynb>data table notebook</a>'\n",
              "            + ' to learn more about interactive tables.';\n",
              "          element.innerHTML = '';\n",
              "          dataTable['output_type'] = 'display_data';\n",
              "          await google.colab.output.renderOutput(dataTable, element);\n",
              "          const docLink = document.createElement('div');\n",
              "          docLink.innerHTML = docLinkHtml;\n",
              "          element.appendChild(docLink);\n",
              "        }\n",
              "      </script>\n",
              "    </div>\n",
              "  </div>\n",
              "  "
            ]
          },
          "metadata": {},
          "execution_count": 3
        }
      ],
      "source": [
        "df = pd.read_csv('uci-news-aggregator.csv')\n",
        "df.head()"
      ]
    },
    {
      "cell_type": "code",
      "source": [
        "df.info()"
      ],
      "metadata": {
        "colab": {
          "base_uri": "https://localhost:8080/"
        },
        "id": "vvsgF5oH1K-k",
        "outputId": "03207cf5-864f-4d0f-b72c-3964344920d7"
      },
      "execution_count": 4,
      "outputs": [
        {
          "output_type": "stream",
          "name": "stdout",
          "text": [
            "<class 'pandas.core.frame.DataFrame'>\n",
            "RangeIndex: 422419 entries, 0 to 422418\n",
            "Data columns (total 2 columns):\n",
            " #   Column             Non-Null Count   Dtype \n",
            "---  ------             --------------   ----- \n",
            " 0   TEXT_COLUMN_NAME   422419 non-null  object\n",
            " 1   LABEL_COLUMN_NAME  422419 non-null  object\n",
            "dtypes: object(2)\n",
            "memory usage: 6.4+ MB\n"
          ]
        }
      ]
    },
    {
      "cell_type": "code",
      "source": [
        "df=df.drop(df.columns[5:8],axis=1)\n",
        "df=df.drop(df.columns[2:4],axis=1)\n",
        "df.head()"
      ],
      "metadata": {
        "colab": {
          "base_uri": "https://localhost:8080/",
          "height": 206
        },
        "id": "lsZ6Q2tw1CAE",
        "outputId": "9056c3ea-cede-486c-bb01-5a161d47c94e"
      },
      "execution_count": 5,
      "outputs": [
        {
          "output_type": "execute_result",
          "data": {
            "text/plain": [
              "                                    TEXT_COLUMN_NAME LABEL_COLUMN_NAME\n",
              "0  Fed official says weak data caused by weather,...                 b\n",
              "1  Fed's Charles Plosser sees high bar for change...                 b\n",
              "2  US open: Stocks fall after Fed official hints ...                 b\n",
              "3  Fed risks falling 'behind the curve', Charles ...                 b\n",
              "4  Fed's Plosser: Nasty Weather Has Curbed Job Gr...                 b"
            ],
            "text/html": [
              "\n",
              "  <div id=\"df-7f764da4-06cd-444e-99d3-5779c86f834c\">\n",
              "    <div class=\"colab-df-container\">\n",
              "      <div>\n",
              "<style scoped>\n",
              "    .dataframe tbody tr th:only-of-type {\n",
              "        vertical-align: middle;\n",
              "    }\n",
              "\n",
              "    .dataframe tbody tr th {\n",
              "        vertical-align: top;\n",
              "    }\n",
              "\n",
              "    .dataframe thead th {\n",
              "        text-align: right;\n",
              "    }\n",
              "</style>\n",
              "<table border=\"1\" class=\"dataframe\">\n",
              "  <thead>\n",
              "    <tr style=\"text-align: right;\">\n",
              "      <th></th>\n",
              "      <th>TEXT_COLUMN_NAME</th>\n",
              "      <th>LABEL_COLUMN_NAME</th>\n",
              "    </tr>\n",
              "  </thead>\n",
              "  <tbody>\n",
              "    <tr>\n",
              "      <th>0</th>\n",
              "      <td>Fed official says weak data caused by weather,...</td>\n",
              "      <td>b</td>\n",
              "    </tr>\n",
              "    <tr>\n",
              "      <th>1</th>\n",
              "      <td>Fed's Charles Plosser sees high bar for change...</td>\n",
              "      <td>b</td>\n",
              "    </tr>\n",
              "    <tr>\n",
              "      <th>2</th>\n",
              "      <td>US open: Stocks fall after Fed official hints ...</td>\n",
              "      <td>b</td>\n",
              "    </tr>\n",
              "    <tr>\n",
              "      <th>3</th>\n",
              "      <td>Fed risks falling 'behind the curve', Charles ...</td>\n",
              "      <td>b</td>\n",
              "    </tr>\n",
              "    <tr>\n",
              "      <th>4</th>\n",
              "      <td>Fed's Plosser: Nasty Weather Has Curbed Job Gr...</td>\n",
              "      <td>b</td>\n",
              "    </tr>\n",
              "  </tbody>\n",
              "</table>\n",
              "</div>\n",
              "      <button class=\"colab-df-convert\" onclick=\"convertToInteractive('df-7f764da4-06cd-444e-99d3-5779c86f834c')\"\n",
              "              title=\"Convert this dataframe to an interactive table.\"\n",
              "              style=\"display:none;\">\n",
              "        \n",
              "  <svg xmlns=\"http://www.w3.org/2000/svg\" height=\"24px\"viewBox=\"0 0 24 24\"\n",
              "       width=\"24px\">\n",
              "    <path d=\"M0 0h24v24H0V0z\" fill=\"none\"/>\n",
              "    <path d=\"M18.56 5.44l.94 2.06.94-2.06 2.06-.94-2.06-.94-.94-2.06-.94 2.06-2.06.94zm-11 1L8.5 8.5l.94-2.06 2.06-.94-2.06-.94L8.5 2.5l-.94 2.06-2.06.94zm10 10l.94 2.06.94-2.06 2.06-.94-2.06-.94-.94-2.06-.94 2.06-2.06.94z\"/><path d=\"M17.41 7.96l-1.37-1.37c-.4-.4-.92-.59-1.43-.59-.52 0-1.04.2-1.43.59L10.3 9.45l-7.72 7.72c-.78.78-.78 2.05 0 2.83L4 21.41c.39.39.9.59 1.41.59.51 0 1.02-.2 1.41-.59l7.78-7.78 2.81-2.81c.8-.78.8-2.07 0-2.86zM5.41 20L4 18.59l7.72-7.72 1.47 1.35L5.41 20z\"/>\n",
              "  </svg>\n",
              "      </button>\n",
              "      \n",
              "  <style>\n",
              "    .colab-df-container {\n",
              "      display:flex;\n",
              "      flex-wrap:wrap;\n",
              "      gap: 12px;\n",
              "    }\n",
              "\n",
              "    .colab-df-convert {\n",
              "      background-color: #E8F0FE;\n",
              "      border: none;\n",
              "      border-radius: 50%;\n",
              "      cursor: pointer;\n",
              "      display: none;\n",
              "      fill: #1967D2;\n",
              "      height: 32px;\n",
              "      padding: 0 0 0 0;\n",
              "      width: 32px;\n",
              "    }\n",
              "\n",
              "    .colab-df-convert:hover {\n",
              "      background-color: #E2EBFA;\n",
              "      box-shadow: 0px 1px 2px rgba(60, 64, 67, 0.3), 0px 1px 3px 1px rgba(60, 64, 67, 0.15);\n",
              "      fill: #174EA6;\n",
              "    }\n",
              "\n",
              "    [theme=dark] .colab-df-convert {\n",
              "      background-color: #3B4455;\n",
              "      fill: #D2E3FC;\n",
              "    }\n",
              "\n",
              "    [theme=dark] .colab-df-convert:hover {\n",
              "      background-color: #434B5C;\n",
              "      box-shadow: 0px 1px 3px 1px rgba(0, 0, 0, 0.15);\n",
              "      filter: drop-shadow(0px 1px 2px rgba(0, 0, 0, 0.3));\n",
              "      fill: #FFFFFF;\n",
              "    }\n",
              "  </style>\n",
              "\n",
              "      <script>\n",
              "        const buttonEl =\n",
              "          document.querySelector('#df-7f764da4-06cd-444e-99d3-5779c86f834c button.colab-df-convert');\n",
              "        buttonEl.style.display =\n",
              "          google.colab.kernel.accessAllowed ? 'block' : 'none';\n",
              "\n",
              "        async function convertToInteractive(key) {\n",
              "          const element = document.querySelector('#df-7f764da4-06cd-444e-99d3-5779c86f834c');\n",
              "          const dataTable =\n",
              "            await google.colab.kernel.invokeFunction('convertToInteractive',\n",
              "                                                     [key], {});\n",
              "          if (!dataTable) return;\n",
              "\n",
              "          const docLinkHtml = 'Like what you see? Visit the ' +\n",
              "            '<a target=\"_blank\" href=https://colab.research.google.com/notebooks/data_table.ipynb>data table notebook</a>'\n",
              "            + ' to learn more about interactive tables.';\n",
              "          element.innerHTML = '';\n",
              "          dataTable['output_type'] = 'display_data';\n",
              "          await google.colab.output.renderOutput(dataTable, element);\n",
              "          const docLink = document.createElement('div');\n",
              "          docLink.innerHTML = docLinkHtml;\n",
              "          element.appendChild(docLink);\n",
              "        }\n",
              "      </script>\n",
              "    </div>\n",
              "  </div>\n",
              "  "
            ]
          },
          "metadata": {},
          "execution_count": 5
        }
      ]
    },
    {
      "cell_type": "code",
      "execution_count": 6,
      "metadata": {
        "id": "hbots_EoQ2EB",
        "outputId": "e26f3c17-4fec-4022-ab39-7fe92f20b56e",
        "colab": {
          "base_uri": "https://localhost:8080/",
          "height": 206
        }
      },
      "outputs": [
        {
          "output_type": "execute_result",
          "data": {
            "text/plain": [
              "                                    TEXT_COLUMN_NAME LABEL_COLUMN_NAME\n",
              "0  Fed official says weak data caused by weather,...                 b\n",
              "1  Fed's Charles Plosser sees high bar for change...                 b\n",
              "2  US open: Stocks fall after Fed official hints ...                 b\n",
              "3  Fed risks falling 'behind the curve', Charles ...                 b\n",
              "4  Fed's Plosser: Nasty Weather Has Curbed Job Gr...                 b"
            ],
            "text/html": [
              "\n",
              "  <div id=\"df-79a6f542-036c-479e-a22b-096c0d2c6b30\">\n",
              "    <div class=\"colab-df-container\">\n",
              "      <div>\n",
              "<style scoped>\n",
              "    .dataframe tbody tr th:only-of-type {\n",
              "        vertical-align: middle;\n",
              "    }\n",
              "\n",
              "    .dataframe tbody tr th {\n",
              "        vertical-align: top;\n",
              "    }\n",
              "\n",
              "    .dataframe thead th {\n",
              "        text-align: right;\n",
              "    }\n",
              "</style>\n",
              "<table border=\"1\" class=\"dataframe\">\n",
              "  <thead>\n",
              "    <tr style=\"text-align: right;\">\n",
              "      <th></th>\n",
              "      <th>TEXT_COLUMN_NAME</th>\n",
              "      <th>LABEL_COLUMN_NAME</th>\n",
              "    </tr>\n",
              "  </thead>\n",
              "  <tbody>\n",
              "    <tr>\n",
              "      <th>0</th>\n",
              "      <td>Fed official says weak data caused by weather,...</td>\n",
              "      <td>b</td>\n",
              "    </tr>\n",
              "    <tr>\n",
              "      <th>1</th>\n",
              "      <td>Fed's Charles Plosser sees high bar for change...</td>\n",
              "      <td>b</td>\n",
              "    </tr>\n",
              "    <tr>\n",
              "      <th>2</th>\n",
              "      <td>US open: Stocks fall after Fed official hints ...</td>\n",
              "      <td>b</td>\n",
              "    </tr>\n",
              "    <tr>\n",
              "      <th>3</th>\n",
              "      <td>Fed risks falling 'behind the curve', Charles ...</td>\n",
              "      <td>b</td>\n",
              "    </tr>\n",
              "    <tr>\n",
              "      <th>4</th>\n",
              "      <td>Fed's Plosser: Nasty Weather Has Curbed Job Gr...</td>\n",
              "      <td>b</td>\n",
              "    </tr>\n",
              "  </tbody>\n",
              "</table>\n",
              "</div>\n",
              "      <button class=\"colab-df-convert\" onclick=\"convertToInteractive('df-79a6f542-036c-479e-a22b-096c0d2c6b30')\"\n",
              "              title=\"Convert this dataframe to an interactive table.\"\n",
              "              style=\"display:none;\">\n",
              "        \n",
              "  <svg xmlns=\"http://www.w3.org/2000/svg\" height=\"24px\"viewBox=\"0 0 24 24\"\n",
              "       width=\"24px\">\n",
              "    <path d=\"M0 0h24v24H0V0z\" fill=\"none\"/>\n",
              "    <path d=\"M18.56 5.44l.94 2.06.94-2.06 2.06-.94-2.06-.94-.94-2.06-.94 2.06-2.06.94zm-11 1L8.5 8.5l.94-2.06 2.06-.94-2.06-.94L8.5 2.5l-.94 2.06-2.06.94zm10 10l.94 2.06.94-2.06 2.06-.94-2.06-.94-.94-2.06-.94 2.06-2.06.94z\"/><path d=\"M17.41 7.96l-1.37-1.37c-.4-.4-.92-.59-1.43-.59-.52 0-1.04.2-1.43.59L10.3 9.45l-7.72 7.72c-.78.78-.78 2.05 0 2.83L4 21.41c.39.39.9.59 1.41.59.51 0 1.02-.2 1.41-.59l7.78-7.78 2.81-2.81c.8-.78.8-2.07 0-2.86zM5.41 20L4 18.59l7.72-7.72 1.47 1.35L5.41 20z\"/>\n",
              "  </svg>\n",
              "      </button>\n",
              "      \n",
              "  <style>\n",
              "    .colab-df-container {\n",
              "      display:flex;\n",
              "      flex-wrap:wrap;\n",
              "      gap: 12px;\n",
              "    }\n",
              "\n",
              "    .colab-df-convert {\n",
              "      background-color: #E8F0FE;\n",
              "      border: none;\n",
              "      border-radius: 50%;\n",
              "      cursor: pointer;\n",
              "      display: none;\n",
              "      fill: #1967D2;\n",
              "      height: 32px;\n",
              "      padding: 0 0 0 0;\n",
              "      width: 32px;\n",
              "    }\n",
              "\n",
              "    .colab-df-convert:hover {\n",
              "      background-color: #E2EBFA;\n",
              "      box-shadow: 0px 1px 2px rgba(60, 64, 67, 0.3), 0px 1px 3px 1px rgba(60, 64, 67, 0.15);\n",
              "      fill: #174EA6;\n",
              "    }\n",
              "\n",
              "    [theme=dark] .colab-df-convert {\n",
              "      background-color: #3B4455;\n",
              "      fill: #D2E3FC;\n",
              "    }\n",
              "\n",
              "    [theme=dark] .colab-df-convert:hover {\n",
              "      background-color: #434B5C;\n",
              "      box-shadow: 0px 1px 3px 1px rgba(0, 0, 0, 0.15);\n",
              "      filter: drop-shadow(0px 1px 2px rgba(0, 0, 0, 0.3));\n",
              "      fill: #FFFFFF;\n",
              "    }\n",
              "  </style>\n",
              "\n",
              "      <script>\n",
              "        const buttonEl =\n",
              "          document.querySelector('#df-79a6f542-036c-479e-a22b-096c0d2c6b30 button.colab-df-convert');\n",
              "        buttonEl.style.display =\n",
              "          google.colab.kernel.accessAllowed ? 'block' : 'none';\n",
              "\n",
              "        async function convertToInteractive(key) {\n",
              "          const element = document.querySelector('#df-79a6f542-036c-479e-a22b-096c0d2c6b30');\n",
              "          const dataTable =\n",
              "            await google.colab.kernel.invokeFunction('convertToInteractive',\n",
              "                                                     [key], {});\n",
              "          if (!dataTable) return;\n",
              "\n",
              "          const docLinkHtml = 'Like what you see? Visit the ' +\n",
              "            '<a target=\"_blank\" href=https://colab.research.google.com/notebooks/data_table.ipynb>data table notebook</a>'\n",
              "            + ' to learn more about interactive tables.';\n",
              "          element.innerHTML = '';\n",
              "          dataTable['output_type'] = 'display_data';\n",
              "          await google.colab.output.renderOutput(dataTable, element);\n",
              "          const docLink = document.createElement('div');\n",
              "          docLink.innerHTML = docLinkHtml;\n",
              "          element.appendChild(docLink);\n",
              "        }\n",
              "      </script>\n",
              "    </div>\n",
              "  </div>\n",
              "  "
            ]
          },
          "metadata": {},
          "execution_count": 6
        }
      ],
      "source": [
        "df.columns = ['TEXT_COLUMN_NAME', 'LABEL_COLUMN_NAME']\n",
        "df.to_csv('uci-news-aggregator.csv', index=None)\n",
        "\n",
        "df = pd.read_csv('uci-news-aggregator.csv')\n",
        "df.head()"
      ]
    },
    {
      "cell_type": "markdown",
      "metadata": {
        "id": "Rw2Bpv9NQ2EB"
      },
      "source": [
        "## Prepare Dataset with Torchtext"
      ]
    },
    {
      "cell_type": "code",
      "source": [
        "import spacy.cli\n",
        "spacy.cli.download(\"en_core_web_sm\")"
      ],
      "metadata": {
        "colab": {
          "base_uri": "https://localhost:8080/"
        },
        "id": "g-x-FW7Q3HL9",
        "outputId": "9b24c564-6be6-40dd-fe28-beb22ab26e9f"
      },
      "execution_count": 7,
      "outputs": [
        {
          "output_type": "stream",
          "name": "stdout",
          "text": [
            "\u001b[38;5;2m✔ Download and installation successful\u001b[0m\n",
            "You can now load the package via spacy.load('en_core_web_sm')\n"
          ]
        }
      ]
    },
    {
      "cell_type": "code",
      "source": [
        "spacy.load('en_core_web_sm')"
      ],
      "metadata": {
        "colab": {
          "base_uri": "https://localhost:8080/"
        },
        "id": "n7ehTDs73ugn",
        "outputId": "85538d8f-93bc-43bb-d347-36118c0d239d"
      },
      "execution_count": 8,
      "outputs": [
        {
          "output_type": "execute_result",
          "data": {
            "text/plain": [
              "<spacy.lang.en.English at 0x7fc825ab6290>"
            ]
          },
          "metadata": {},
          "execution_count": 8
        }
      ]
    },
    {
      "cell_type": "markdown",
      "metadata": {
        "id": "F6v606FHQ2EC"
      },
      "source": [
        "Download English vocabulary via:\n",
        "    \n",
        "- `python -m spacy download en_core_web_sm`"
      ]
    },
    {
      "cell_type": "markdown",
      "metadata": {
        "id": "4GnH64XvsV8n"
      },
      "source": [
        "Define the Label and Text field formatters:"
      ]
    },
    {
      "cell_type": "code",
      "execution_count": 9,
      "metadata": {
        "id": "F7PI9pdOQ2EC"
      },
      "outputs": [],
      "source": [
        "### Defining the feature processing\n",
        "\n",
        "TEXT = torchtext.legacy.data.Field(\n",
        "    tokenize='spacy', # default splits on whitespace\n",
        "    tokenizer_language='en_core_web_sm',\n",
        "    include_lengths=True # NEW\n",
        ")\n",
        "\n",
        "### Defining the label processing\n",
        "\n",
        "LABEL = torchtext.legacy.data.LabelField(dtype=torch.long)"
      ]
    },
    {
      "cell_type": "markdown",
      "metadata": {
        "id": "TmxJHcNXQ2ED"
      },
      "source": [
        "Process the dataset:"
      ]
    },
    {
      "cell_type": "code",
      "execution_count": 10,
      "metadata": {
        "id": "LfnhjxtsQ2ED"
      },
      "outputs": [],
      "source": [
        "fields = [('TEXT_COLUMN_NAME', TEXT), ('LABEL_COLUMN_NAME', LABEL)]\n",
        "\n",
        "dataset = torchtext.legacy.data.TabularDataset(\n",
        "    path='uci-news-aggregator.csv', format='csv',\n",
        "    skip_header=True, fields=fields)"
      ]
    },
    {
      "cell_type": "code",
      "source": [
        "vars(dataset.examples[0])"
      ],
      "metadata": {
        "colab": {
          "base_uri": "https://localhost:8080/"
        },
        "id": "qJNF-2Ig0iHt",
        "outputId": "86439e2f-6c75-41e2-c9a2-4eaec52f52ca"
      },
      "execution_count": 11,
      "outputs": [
        {
          "output_type": "execute_result",
          "data": {
            "text/plain": [
              "{'TEXT_COLUMN_NAME': ['Fed',\n",
              "  'official',\n",
              "  'says',\n",
              "  'weak',\n",
              "  'data',\n",
              "  'caused',\n",
              "  'by',\n",
              "  'weather',\n",
              "  ',',\n",
              "  'should',\n",
              "  'not',\n",
              "  'slow',\n",
              "  'taper'],\n",
              " 'LABEL_COLUMN_NAME': 'b'}"
            ]
          },
          "metadata": {},
          "execution_count": 11
        }
      ]
    },
    {
      "cell_type": "markdown",
      "metadata": {
        "id": "Q9td4KZqQ2ED"
      },
      "source": [
        "## Split Dataset into Train/Validation/Test"
      ]
    },
    {
      "cell_type": "markdown",
      "metadata": {
        "id": "wtUttoVUQ2ED"
      },
      "source": [
        "Split the dataset into training, validation, and test partitions:"
      ]
    },
    {
      "cell_type": "code",
      "execution_count": 12,
      "metadata": {
        "colab": {
          "base_uri": "https://localhost:8080/"
        },
        "id": "WZ_4jiHVnMxN",
        "outputId": "d8d4b8a6-a948-4d98-acd7-d2d61803007d"
      },
      "outputs": [
        {
          "output_type": "stream",
          "name": "stdout",
          "text": [
            "Num Train: 337935\n",
            "Num Test: 84484\n"
          ]
        }
      ],
      "source": [
        "train_data, test_data = dataset.split(\n",
        "    split_ratio=[0.8, 0.2],\n",
        "    random_state=random.seed(RANDOM_SEED))\n",
        "\n",
        "print(f'Num Train: {len(train_data)}')\n",
        "print(f'Num Test: {len(test_data)}')"
      ]
    },
    {
      "cell_type": "code",
      "execution_count": 13,
      "metadata": {
        "id": "DUwxM4f7Q2EE",
        "outputId": "8da9faff-6ba6-46e0-dc91-bf188a32240f",
        "colab": {
          "base_uri": "https://localhost:8080/"
        }
      },
      "outputs": [
        {
          "output_type": "stream",
          "name": "stdout",
          "text": [
            "Num Train: 287245\n",
            "Num Validation: 50690\n"
          ]
        }
      ],
      "source": [
        "train_data, valid_data = train_data.split(\n",
        "    split_ratio=[0.85, 0.15],\n",
        "    random_state=random.seed(RANDOM_SEED))\n",
        "\n",
        "print(f'Num Train: {len(train_data)}')\n",
        "print(f'Num Validation: {len(valid_data)}')"
      ]
    },
    {
      "cell_type": "code",
      "execution_count": 14,
      "metadata": {
        "id": "KXXGEJCCQ2EE",
        "outputId": "36055509-5047-4faa-89f9-d8edd44a5c3e",
        "colab": {
          "base_uri": "https://localhost:8080/"
        }
      },
      "outputs": [
        {
          "output_type": "stream",
          "name": "stdout",
          "text": [
            "{'TEXT_COLUMN_NAME': ['Oil', 'falls', 'below', '$', '108', 'on', 'excess', 'supply', ',', 'weak', 'demand'], 'LABEL_COLUMN_NAME': 'b'}\n"
          ]
        }
      ],
      "source": [
        "print(vars(train_data.examples[0]))"
      ]
    },
    {
      "cell_type": "markdown",
      "metadata": {
        "id": "KYmZaKzJQ2EE"
      },
      "source": [
        "## Build Vocabulary"
      ]
    },
    {
      "cell_type": "markdown",
      "metadata": {
        "id": "L-TBwKWPslPa"
      },
      "source": [
        "Build the vocabulary based on the top \"VOCABULARY_SIZE\" words:"
      ]
    },
    {
      "cell_type": "code",
      "execution_count": 15,
      "metadata": {
        "colab": {
          "base_uri": "https://localhost:8080/"
        },
        "id": "e8uNrjdtn4A8",
        "outputId": "fe408b28-9e04-46ae-a256-ad03a22c0869"
      },
      "outputs": [
        {
          "output_type": "stream",
          "name": "stdout",
          "text": [
            "Vocabulary size: 20002\n",
            "Number of classes: 4\n"
          ]
        }
      ],
      "source": [
        "TEXT.build_vocab(train_data, max_size=VOCABULARY_SIZE)\n",
        "LABEL.build_vocab(train_data)\n",
        "\n",
        "print(f'Vocabulary size: {len(TEXT.vocab)}')\n",
        "print(f'Number of classes: {len(LABEL.vocab)}')"
      ]
    },
    {
      "cell_type": "markdown",
      "metadata": {
        "id": "qvBACh-CQ2EF"
      },
      "source": [
        "- 25,002 not 25,000 because of the `<unk>` and `<pad>` tokens\n",
        "- PyTorch RNNs can deal with arbitrary lengths due to dynamic graphs, but padding is necessary for padding sequences to the same length in a given minibatch so we can store those in an array"
      ]
    },
    {
      "cell_type": "markdown",
      "metadata": {
        "id": "_uZytQ4TQ2EF"
      },
      "source": [
        "**Look at most common words:**"
      ]
    },
    {
      "cell_type": "code",
      "execution_count": 16,
      "metadata": {
        "id": "Lcb6Rb1gQ2EF",
        "outputId": "e2946986-4a23-4d7f-b46e-b607fc65a6de",
        "colab": {
          "base_uri": "https://localhost:8080/"
        }
      },
      "outputs": [
        {
          "output_type": "stream",
          "name": "stdout",
          "text": [
            "[(\"'\", 89722), (',', 58391), ('to', 56935), (':', 56104), ('-', 45972), (\"'s\", 42876), ('in', 39326), ('...', 38731), (' ', 37438), ('of', 33535), ('for', 29460), ('the', 26572), ('on', 22254), ('and', 21913), ('The', 20993), ('a', 15245), ('at', 12377), ('with', 12266), ('?', 12204), ('$', 11145)]\n"
          ]
        }
      ],
      "source": [
        "print(TEXT.vocab.freqs.most_common(20))"
      ]
    },
    {
      "cell_type": "markdown",
      "metadata": {
        "id": "ygUaZAJsQ2EF"
      },
      "source": [
        "**Tokens corresponding to the first 10 indices (0, 1, ..., 9):**"
      ]
    },
    {
      "cell_type": "code",
      "execution_count": 17,
      "metadata": {
        "id": "QiLPBk9KQ2EG",
        "outputId": "ff71b890-d1b9-4650-b39b-de52033d7feb",
        "colab": {
          "base_uri": "https://localhost:8080/"
        }
      },
      "outputs": [
        {
          "output_type": "stream",
          "name": "stdout",
          "text": [
            "['<unk>', '<pad>', \"'\", ',', 'to', ':', '-', \"'s\", 'in', '...']\n"
          ]
        }
      ],
      "source": [
        "print(TEXT.vocab.itos[:10]) # itos = integer-to-string"
      ]
    },
    {
      "cell_type": "markdown",
      "metadata": {
        "id": "dgNoxjXdQ2EG"
      },
      "source": [
        "**Converting a string to an integer:**"
      ]
    },
    {
      "cell_type": "code",
      "execution_count": 18,
      "metadata": {
        "id": "rOxmp6kyQ2EG",
        "outputId": "43787d30-920d-4fdb-88aa-cb35a9ca274a",
        "colab": {
          "base_uri": "https://localhost:8080/"
        }
      },
      "outputs": [
        {
          "output_type": "stream",
          "name": "stdout",
          "text": [
            "13\n"
          ]
        }
      ],
      "source": [
        "print(TEXT.vocab.stoi['the']) # stoi = string-to-integer"
      ]
    },
    {
      "cell_type": "markdown",
      "metadata": {
        "id": "TbP7t45SQ2EG"
      },
      "source": [
        "**Class labels:**"
      ]
    },
    {
      "cell_type": "code",
      "execution_count": 19,
      "metadata": {
        "id": "5FWP4YYVQ2EG",
        "outputId": "2d477450-3d3c-4b8a-e9dd-9727d941b2c1",
        "colab": {
          "base_uri": "https://localhost:8080/"
        }
      },
      "outputs": [
        {
          "output_type": "stream",
          "name": "stdout",
          "text": [
            "defaultdict(None, {'e': 0, 'b': 1, 't': 2, 'm': 3})\n"
          ]
        }
      ],
      "source": [
        "print(LABEL.vocab.stoi)"
      ]
    },
    {
      "cell_type": "markdown",
      "metadata": {
        "id": "uR0pv94bQ2EG"
      },
      "source": [
        "**Class label count:**"
      ]
    },
    {
      "cell_type": "code",
      "execution_count": 20,
      "metadata": {
        "id": "0dONVNGWQ2EG",
        "outputId": "4763e485-60fd-4c4c-cbc8-3e6dfaede38f",
        "colab": {
          "base_uri": "https://localhost:8080/"
        }
      },
      "outputs": [
        {
          "output_type": "execute_result",
          "data": {
            "text/plain": [
              "Counter({'b': 78810, 'e': 103739, 'm': 31120, 't': 73576})"
            ]
          },
          "metadata": {},
          "execution_count": 20
        }
      ],
      "source": [
        "LABEL.vocab.freqs"
      ]
    },
    {
      "cell_type": "markdown",
      "metadata": {
        "id": "eIQ_zfKLwjKm"
      },
      "source": [
        "## Define Data Loaders"
      ]
    },
    {
      "cell_type": "code",
      "execution_count": 21,
      "metadata": {
        "id": "i7JiHR1stHNF"
      },
      "outputs": [],
      "source": [
        "train_loader, valid_loader, test_loader = \\\n",
        "    torchtext.legacy.data.BucketIterator.splits(\n",
        "        (train_data, valid_data, test_data), \n",
        "        batch_size=BATCH_SIZE,\n",
        "        sort_within_batch=True, # NEW. necessary for packed_padded_sequence\n",
        "             sort_key=lambda x: len(x.TEXT_COLUMN_NAME),\n",
        "        device=DEVICE\n",
        ")"
      ]
    },
    {
      "cell_type": "markdown",
      "metadata": {
        "id": "R0pT_dMRvicQ"
      },
      "source": [
        "Testing the iterators (note that the number of rows depends on the longest document in the respective batch):"
      ]
    },
    {
      "cell_type": "code",
      "execution_count": 22,
      "metadata": {
        "colab": {
          "base_uri": "https://localhost:8080/"
        },
        "id": "y8SP_FccutT0",
        "outputId": "201d6303-8df0-40dd-a434-7159597481c7"
      },
      "outputs": [
        {
          "output_type": "stream",
          "name": "stdout",
          "text": [
            "Train\n",
            "Text matrix size: torch.Size([6, 128])\n",
            "Target vector size: torch.Size([128])\n",
            "\n",
            "Valid:\n",
            "Text matrix size: torch.Size([2, 128])\n",
            "Target vector size: torch.Size([128])\n",
            "\n",
            "Test:\n",
            "Text matrix size: torch.Size([2, 128])\n",
            "Target vector size: torch.Size([128])\n"
          ]
        }
      ],
      "source": [
        "print('Train')\n",
        "for batch in train_loader:\n",
        "    print(f'Text matrix size: {batch.TEXT_COLUMN_NAME[0].size()}')\n",
        "    print(f'Target vector size: {batch.LABEL_COLUMN_NAME.size()}')\n",
        "    break\n",
        "    \n",
        "print('\\nValid:')\n",
        "for batch in valid_loader:\n",
        "    print(f'Text matrix size: {batch.TEXT_COLUMN_NAME[0].size()}')\n",
        "    print(f'Target vector size: {batch.LABEL_COLUMN_NAME.size()}')\n",
        "    break\n",
        "    \n",
        "print('\\nTest:')\n",
        "for batch in test_loader:\n",
        "    print(f'Text matrix size: {batch.TEXT_COLUMN_NAME[0].size()}')\n",
        "    print(f'Target vector size: {batch.LABEL_COLUMN_NAME.size()}')\n",
        "    break"
      ]
    },
    {
      "cell_type": "markdown",
      "metadata": {
        "id": "G_grdW3pxCzz"
      },
      "source": [
        "## Model"
      ]
    },
    {
      "cell_type": "code",
      "execution_count": 23,
      "metadata": {
        "id": "nQIUm5EjxFNa"
      },
      "outputs": [],
      "source": [
        "class RNN(torch.nn.Module):\n",
        "    \n",
        "    def __init__(self, input_dim, embedding_dim, hidden_dim, output_dim):\n",
        "        super().__init__()\n",
        "\n",
        "        self.embedding = torch.nn.Embedding(input_dim, embedding_dim)\n",
        "        #self.rnn = torch.nn.RNN(embedding_dim,\n",
        "        #                        hidden_dim,\n",
        "        #                        nonlinearity='relu')\n",
        "        self.rnn = torch.nn.LSTM(embedding_dim,\n",
        "                                 hidden_dim)        \n",
        "        \n",
        "        self.fc = torch.nn.Linear(hidden_dim, output_dim)\n",
        "        \n",
        "\n",
        "    def forward(self, text, text_length):\n",
        "        # text dim: [sentence length, batch size]\n",
        "        \n",
        "        embedded = self.embedding(text)\n",
        "        # ebedded dim: [sentence length, batch size, embedding dim]\n",
        "        \n",
        "        ## NEW\n",
        "        packed = torch.nn.utils.rnn.pack_padded_sequence(embedded, text_length.to('cpu'))\n",
        "        \n",
        "        packed_output, (hidden, cell) = self.rnn(packed)\n",
        "        # output dim: [sentence length, batch size, hidden dim]\n",
        "        # hidden dim: [1, batch size, hidden dim]\n",
        "\n",
        "        hidden.squeeze_(0)\n",
        "        # hidden dim: [batch size, hidden dim]\n",
        "        \n",
        "        output = self.fc(hidden)\n",
        "        return output"
      ]
    },
    {
      "cell_type": "code",
      "execution_count": 24,
      "metadata": {
        "id": "Ik3NF3faxFmZ"
      },
      "outputs": [],
      "source": [
        "torch.manual_seed(RANDOM_SEED)\n",
        "model = RNN(input_dim=len(TEXT.vocab),\n",
        "            embedding_dim=EMBEDDING_DIM,\n",
        "            hidden_dim=HIDDEN_DIM,\n",
        "            output_dim=NUM_CLASSES # could use 1 for binary classification\n",
        ")\n",
        "\n",
        "model = model.to(DEVICE)\n",
        "optimizer = torch.optim.Adam(model.parameters(), lr=0.005)"
      ]
    },
    {
      "cell_type": "markdown",
      "metadata": {
        "id": "Lv9Ny9di6VcI"
      },
      "source": [
        "## Training"
      ]
    },
    {
      "cell_type": "code",
      "execution_count": 25,
      "metadata": {
        "id": "T5t1Afn4xO11"
      },
      "outputs": [],
      "source": [
        "def compute_accuracy(model, data_loader, device):\n",
        "\n",
        "    with torch.no_grad():\n",
        "\n",
        "        correct_pred, num_examples = 0, 0\n",
        "\n",
        "        for batch_idx, batch_data in enumerate(data_loader):\n",
        "\n",
        "            # NEW\n",
        "            features, text_length = batch_data.TEXT_COLUMN_NAME\n",
        "            targets = batch_data.LABEL_COLUMN_NAME.to(DEVICE)\n",
        "            \n",
        "            logits = model(features, text_length)\n",
        "            _, predicted_labels = torch.max(logits, 1)\n",
        "\n",
        "            num_examples += targets.size(0)\n",
        "\n",
        "            correct_pred += (predicted_labels == targets).sum()\n",
        "    return correct_pred.float()/num_examples * 100"
      ]
    },
    {
      "cell_type": "code",
      "execution_count": 26,
      "metadata": {
        "colab": {
          "base_uri": "https://localhost:8080/"
        },
        "id": "EABZM8Vo0ilB",
        "outputId": "0276583f-a889-4412-ee1c-9d2991df1e05"
      },
      "outputs": [
        {
          "output_type": "stream",
          "name": "stdout",
          "text": [
            "Epoch: 001/004 | Batch 000/2245 | Loss: 1.3903\n",
            "Epoch: 001/004 | Batch 050/2245 | Loss: 0.9637\n",
            "Epoch: 001/004 | Batch 100/2245 | Loss: 0.8829\n",
            "Epoch: 001/004 | Batch 150/2245 | Loss: 0.3630\n",
            "Epoch: 001/004 | Batch 200/2245 | Loss: 0.5970\n",
            "Epoch: 001/004 | Batch 250/2245 | Loss: 0.3412\n",
            "Epoch: 001/004 | Batch 300/2245 | Loss: 0.3796\n",
            "Epoch: 001/004 | Batch 350/2245 | Loss: 0.3625\n",
            "Epoch: 001/004 | Batch 400/2245 | Loss: 0.3410\n",
            "Epoch: 001/004 | Batch 450/2245 | Loss: 0.3224\n",
            "Epoch: 001/004 | Batch 500/2245 | Loss: 0.2626\n",
            "Epoch: 001/004 | Batch 550/2245 | Loss: 0.3361\n",
            "Epoch: 001/004 | Batch 600/2245 | Loss: 0.1672\n",
            "Epoch: 001/004 | Batch 650/2245 | Loss: 0.1611\n",
            "Epoch: 001/004 | Batch 700/2245 | Loss: 0.2154\n",
            "Epoch: 001/004 | Batch 750/2245 | Loss: 0.4264\n",
            "Epoch: 001/004 | Batch 800/2245 | Loss: 0.1288\n",
            "Epoch: 001/004 | Batch 850/2245 | Loss: 0.1642\n",
            "Epoch: 001/004 | Batch 900/2245 | Loss: 0.2470\n",
            "Epoch: 001/004 | Batch 950/2245 | Loss: 0.1997\n",
            "Epoch: 001/004 | Batch 1000/2245 | Loss: 0.2080\n",
            "Epoch: 001/004 | Batch 1050/2245 | Loss: 0.0873\n",
            "Epoch: 001/004 | Batch 1100/2245 | Loss: 0.1732\n",
            "Epoch: 001/004 | Batch 1150/2245 | Loss: 0.1670\n",
            "Epoch: 001/004 | Batch 1200/2245 | Loss: 0.2729\n",
            "Epoch: 001/004 | Batch 1250/2245 | Loss: 0.2657\n",
            "Epoch: 001/004 | Batch 1300/2245 | Loss: 0.1742\n",
            "Epoch: 001/004 | Batch 1350/2245 | Loss: 0.0999\n",
            "Epoch: 001/004 | Batch 1400/2245 | Loss: 0.2216\n",
            "Epoch: 001/004 | Batch 1450/2245 | Loss: 0.3137\n",
            "Epoch: 001/004 | Batch 1500/2245 | Loss: 0.0992\n",
            "Epoch: 001/004 | Batch 1550/2245 | Loss: 0.1837\n",
            "Epoch: 001/004 | Batch 1600/2245 | Loss: 0.4261\n",
            "Epoch: 001/004 | Batch 1650/2245 | Loss: 0.2002\n",
            "Epoch: 001/004 | Batch 1700/2245 | Loss: 0.2592\n",
            "Epoch: 001/004 | Batch 1750/2245 | Loss: 0.2771\n",
            "Epoch: 001/004 | Batch 1800/2245 | Loss: 0.1688\n",
            "Epoch: 001/004 | Batch 1850/2245 | Loss: 0.3087\n",
            "Epoch: 001/004 | Batch 1900/2245 | Loss: 0.1655\n",
            "Epoch: 001/004 | Batch 1950/2245 | Loss: 0.1430\n",
            "Epoch: 001/004 | Batch 2000/2245 | Loss: 0.7152\n",
            "Epoch: 001/004 | Batch 2050/2245 | Loss: 0.2271\n",
            "Epoch: 001/004 | Batch 2100/2245 | Loss: 0.1769\n",
            "Epoch: 001/004 | Batch 2150/2245 | Loss: 0.2230\n",
            "Epoch: 001/004 | Batch 2200/2245 | Loss: 0.1609\n",
            "training accuracy: 95.41%\n",
            "valid accuracy: 93.36%\n",
            "Time elapsed: 10.73 min\n",
            "Epoch: 002/004 | Batch 000/2245 | Loss: 0.0449\n",
            "Epoch: 002/004 | Batch 050/2245 | Loss: 0.0431\n",
            "Epoch: 002/004 | Batch 100/2245 | Loss: 0.0952\n",
            "Epoch: 002/004 | Batch 150/2245 | Loss: 0.1649\n",
            "Epoch: 002/004 | Batch 200/2245 | Loss: 0.1385\n",
            "Epoch: 002/004 | Batch 250/2245 | Loss: 0.0644\n",
            "Epoch: 002/004 | Batch 300/2245 | Loss: 0.0944\n",
            "Epoch: 002/004 | Batch 350/2245 | Loss: 0.1615\n",
            "Epoch: 002/004 | Batch 400/2245 | Loss: 0.1693\n",
            "Epoch: 002/004 | Batch 450/2245 | Loss: 0.1142\n",
            "Epoch: 002/004 | Batch 500/2245 | Loss: 0.1780\n",
            "Epoch: 002/004 | Batch 550/2245 | Loss: 0.0603\n",
            "Epoch: 002/004 | Batch 600/2245 | Loss: 0.0870\n",
            "Epoch: 002/004 | Batch 650/2245 | Loss: 0.1169\n",
            "Epoch: 002/004 | Batch 700/2245 | Loss: 0.1485\n",
            "Epoch: 002/004 | Batch 750/2245 | Loss: 0.1516\n",
            "Epoch: 002/004 | Batch 800/2245 | Loss: 0.1233\n",
            "Epoch: 002/004 | Batch 850/2245 | Loss: 0.1185\n",
            "Epoch: 002/004 | Batch 900/2245 | Loss: 0.1646\n",
            "Epoch: 002/004 | Batch 950/2245 | Loss: 0.0937\n",
            "Epoch: 002/004 | Batch 1000/2245 | Loss: 0.1314\n",
            "Epoch: 002/004 | Batch 1050/2245 | Loss: 0.0874\n",
            "Epoch: 002/004 | Batch 1100/2245 | Loss: 0.0986\n",
            "Epoch: 002/004 | Batch 1150/2245 | Loss: 0.1342\n",
            "Epoch: 002/004 | Batch 1200/2245 | Loss: 0.1143\n",
            "Epoch: 002/004 | Batch 1250/2245 | Loss: 0.1478\n",
            "Epoch: 002/004 | Batch 1300/2245 | Loss: 0.1471\n",
            "Epoch: 002/004 | Batch 1350/2245 | Loss: 0.2961\n",
            "Epoch: 002/004 | Batch 1400/2245 | Loss: 0.0724\n",
            "Epoch: 002/004 | Batch 1450/2245 | Loss: 0.1744\n",
            "Epoch: 002/004 | Batch 1500/2245 | Loss: 0.1395\n",
            "Epoch: 002/004 | Batch 1550/2245 | Loss: 0.1217\n",
            "Epoch: 002/004 | Batch 1600/2245 | Loss: 0.1377\n",
            "Epoch: 002/004 | Batch 1650/2245 | Loss: 0.1149\n",
            "Epoch: 002/004 | Batch 1700/2245 | Loss: 0.1409\n",
            "Epoch: 002/004 | Batch 1750/2245 | Loss: 0.1346\n",
            "Epoch: 002/004 | Batch 1800/2245 | Loss: 0.0576\n",
            "Epoch: 002/004 | Batch 1850/2245 | Loss: 0.1195\n",
            "Epoch: 002/004 | Batch 1900/2245 | Loss: 0.0924\n",
            "Epoch: 002/004 | Batch 1950/2245 | Loss: 0.1092\n",
            "Epoch: 002/004 | Batch 2000/2245 | Loss: 0.0875\n",
            "Epoch: 002/004 | Batch 2050/2245 | Loss: 0.1863\n",
            "Epoch: 002/004 | Batch 2100/2245 | Loss: 0.1026\n",
            "Epoch: 002/004 | Batch 2150/2245 | Loss: 0.1901\n",
            "Epoch: 002/004 | Batch 2200/2245 | Loss: 0.0377\n",
            "training accuracy: 96.82%\n",
            "valid accuracy: 93.97%\n",
            "Time elapsed: 21.22 min\n",
            "Epoch: 003/004 | Batch 000/2245 | Loss: 0.0471\n",
            "Epoch: 003/004 | Batch 050/2245 | Loss: 0.0630\n",
            "Epoch: 003/004 | Batch 100/2245 | Loss: 0.0690\n",
            "Epoch: 003/004 | Batch 150/2245 | Loss: 0.0743\n",
            "Epoch: 003/004 | Batch 200/2245 | Loss: 0.1226\n",
            "Epoch: 003/004 | Batch 250/2245 | Loss: 0.1724\n",
            "Epoch: 003/004 | Batch 300/2245 | Loss: 0.1386\n",
            "Epoch: 003/004 | Batch 350/2245 | Loss: 0.0725\n",
            "Epoch: 003/004 | Batch 400/2245 | Loss: 0.0801\n",
            "Epoch: 003/004 | Batch 450/2245 | Loss: 0.1002\n",
            "Epoch: 003/004 | Batch 500/2245 | Loss: 0.1650\n",
            "Epoch: 003/004 | Batch 550/2245 | Loss: 0.0443\n",
            "Epoch: 003/004 | Batch 600/2245 | Loss: 0.0435\n",
            "Epoch: 003/004 | Batch 650/2245 | Loss: 0.0602\n",
            "Epoch: 003/004 | Batch 700/2245 | Loss: 0.1757\n",
            "Epoch: 003/004 | Batch 750/2245 | Loss: 0.1555\n",
            "Epoch: 003/004 | Batch 800/2245 | Loss: 0.0708\n",
            "Epoch: 003/004 | Batch 850/2245 | Loss: 0.0467\n",
            "Epoch: 003/004 | Batch 900/2245 | Loss: 0.1172\n",
            "Epoch: 003/004 | Batch 950/2245 | Loss: 0.0686\n",
            "Epoch: 003/004 | Batch 1000/2245 | Loss: 0.0914\n",
            "Epoch: 003/004 | Batch 1050/2245 | Loss: 0.0479\n",
            "Epoch: 003/004 | Batch 1100/2245 | Loss: 0.1100\n",
            "Epoch: 003/004 | Batch 1150/2245 | Loss: 0.1278\n",
            "Epoch: 003/004 | Batch 1200/2245 | Loss: 0.0414\n",
            "Epoch: 003/004 | Batch 1250/2245 | Loss: 0.2107\n",
            "Epoch: 003/004 | Batch 1300/2245 | Loss: 0.1998\n",
            "Epoch: 003/004 | Batch 1350/2245 | Loss: 0.0862\n",
            "Epoch: 003/004 | Batch 1400/2245 | Loss: 0.1797\n",
            "Epoch: 003/004 | Batch 1450/2245 | Loss: 0.0813\n",
            "Epoch: 003/004 | Batch 1500/2245 | Loss: 0.1535\n",
            "Epoch: 003/004 | Batch 1550/2245 | Loss: 0.1833\n",
            "Epoch: 003/004 | Batch 1600/2245 | Loss: 0.0503\n",
            "Epoch: 003/004 | Batch 1650/2245 | Loss: 0.1822\n",
            "Epoch: 003/004 | Batch 1700/2245 | Loss: 0.1441\n",
            "Epoch: 003/004 | Batch 1750/2245 | Loss: 0.0493\n",
            "Epoch: 003/004 | Batch 1800/2245 | Loss: 0.1673\n",
            "Epoch: 003/004 | Batch 1850/2245 | Loss: 0.1104\n",
            "Epoch: 003/004 | Batch 1900/2245 | Loss: 0.1266\n",
            "Epoch: 003/004 | Batch 1950/2245 | Loss: 0.3178\n",
            "Epoch: 003/004 | Batch 2000/2245 | Loss: 0.1439\n",
            "Epoch: 003/004 | Batch 2050/2245 | Loss: 0.1150\n",
            "Epoch: 003/004 | Batch 2100/2245 | Loss: 0.1032\n",
            "Epoch: 003/004 | Batch 2150/2245 | Loss: 0.1848\n",
            "Epoch: 003/004 | Batch 2200/2245 | Loss: 0.0951\n",
            "training accuracy: 97.42%\n",
            "valid accuracy: 93.90%\n",
            "Time elapsed: 31.22 min\n",
            "Epoch: 004/004 | Batch 000/2245 | Loss: 0.0171\n",
            "Epoch: 004/004 | Batch 050/2245 | Loss: 0.0213\n",
            "Epoch: 004/004 | Batch 100/2245 | Loss: 0.0892\n",
            "Epoch: 004/004 | Batch 150/2245 | Loss: 0.0494\n",
            "Epoch: 004/004 | Batch 200/2245 | Loss: 0.0391\n",
            "Epoch: 004/004 | Batch 250/2245 | Loss: 0.0644\n",
            "Epoch: 004/004 | Batch 300/2245 | Loss: 0.0743\n",
            "Epoch: 004/004 | Batch 350/2245 | Loss: 0.1102\n",
            "Epoch: 004/004 | Batch 400/2245 | Loss: 0.0890\n",
            "Epoch: 004/004 | Batch 450/2245 | Loss: 0.0215\n",
            "Epoch: 004/004 | Batch 500/2245 | Loss: 0.0497\n",
            "Epoch: 004/004 | Batch 550/2245 | Loss: 0.0247\n",
            "Epoch: 004/004 | Batch 600/2245 | Loss: 0.0896\n",
            "Epoch: 004/004 | Batch 650/2245 | Loss: 0.0742\n",
            "Epoch: 004/004 | Batch 700/2245 | Loss: 0.0586\n",
            "Epoch: 004/004 | Batch 750/2245 | Loss: 0.0490\n",
            "Epoch: 004/004 | Batch 800/2245 | Loss: 0.0638\n",
            "Epoch: 004/004 | Batch 850/2245 | Loss: 0.0334\n",
            "Epoch: 004/004 | Batch 900/2245 | Loss: 0.0736\n",
            "Epoch: 004/004 | Batch 950/2245 | Loss: 0.0775\n",
            "Epoch: 004/004 | Batch 1000/2245 | Loss: 0.0966\n",
            "Epoch: 004/004 | Batch 1050/2245 | Loss: 0.0827\n",
            "Epoch: 004/004 | Batch 1100/2245 | Loss: 0.0501\n",
            "Epoch: 004/004 | Batch 1150/2245 | Loss: 0.0525\n",
            "Epoch: 004/004 | Batch 1200/2245 | Loss: 0.0489\n",
            "Epoch: 004/004 | Batch 1250/2245 | Loss: 0.1231\n",
            "Epoch: 004/004 | Batch 1300/2245 | Loss: 0.1044\n",
            "Epoch: 004/004 | Batch 1350/2245 | Loss: 0.0590\n",
            "Epoch: 004/004 | Batch 1400/2245 | Loss: 0.0896\n",
            "Epoch: 004/004 | Batch 1450/2245 | Loss: 0.0490\n",
            "Epoch: 004/004 | Batch 1500/2245 | Loss: 0.1095\n",
            "Epoch: 004/004 | Batch 1550/2245 | Loss: 0.0519\n",
            "Epoch: 004/004 | Batch 1600/2245 | Loss: 0.0509\n",
            "Epoch: 004/004 | Batch 1650/2245 | Loss: 0.0737\n",
            "Epoch: 004/004 | Batch 1700/2245 | Loss: 0.0560\n",
            "Epoch: 004/004 | Batch 1750/2245 | Loss: 0.1252\n",
            "Epoch: 004/004 | Batch 1800/2245 | Loss: 0.1054\n",
            "Epoch: 004/004 | Batch 1850/2245 | Loss: 0.0780\n",
            "Epoch: 004/004 | Batch 1900/2245 | Loss: 0.1506\n",
            "Epoch: 004/004 | Batch 1950/2245 | Loss: 0.0929\n",
            "Epoch: 004/004 | Batch 2000/2245 | Loss: 0.0676\n",
            "Epoch: 004/004 | Batch 2050/2245 | Loss: 0.0401\n",
            "Epoch: 004/004 | Batch 2100/2245 | Loss: 0.3426\n",
            "Epoch: 004/004 | Batch 2150/2245 | Loss: 0.0771\n",
            "Epoch: 004/004 | Batch 2200/2245 | Loss: 0.1919\n",
            "training accuracy: 97.79%\n",
            "valid accuracy: 93.99%\n",
            "Time elapsed: 41.31 min\n",
            "Total Training Time: 41.31 min\n",
            "Test accuracy: 93.88%\n"
          ]
        }
      ],
      "source": [
        "start_time = time.time()\n",
        "\n",
        "for epoch in range(NUM_EPOCHS):\n",
        "    model.train()\n",
        "    for batch_idx, batch_data in enumerate(train_loader):\n",
        "        \n",
        "        # NEW\n",
        "        features, text_length = batch_data.TEXT_COLUMN_NAME\n",
        "        labels = batch_data.LABEL_COLUMN_NAME.to(DEVICE)\n",
        "\n",
        "        ### FORWARD AND BACK PROP\n",
        "        logits = model(features, text_length)\n",
        "        loss = F.cross_entropy(logits, labels)\n",
        "        optimizer.zero_grad()\n",
        "        \n",
        "        loss.backward()\n",
        "        \n",
        "        ### UPDATE MODEL PARAMETERS\n",
        "        optimizer.step()\n",
        "        \n",
        "        ### LOGGING\n",
        "        if not batch_idx % 50:\n",
        "            print (f'Epoch: {epoch+1:03d}/{NUM_EPOCHS:03d} | '\n",
        "                   f'Batch {batch_idx:03d}/{len(train_loader):03d} | '\n",
        "                   f'Loss: {loss:.4f}')\n",
        "\n",
        "    with torch.set_grad_enabled(False):\n",
        "        print(f'training accuracy: '\n",
        "              f'{compute_accuracy(model, train_loader, DEVICE):.2f}%'\n",
        "              f'\\nvalid accuracy: '\n",
        "              f'{compute_accuracy(model, valid_loader, DEVICE):.2f}%')\n",
        "        \n",
        "    print(f'Time elapsed: {(time.time() - start_time)/60:.2f} min')\n",
        "    \n",
        "print(f'Total Training Time: {(time.time() - start_time)/60:.2f} min')\n",
        "print(f'Test accuracy: {compute_accuracy(model, test_loader, DEVICE):.2f}%')"
      ]
    },
    {
      "cell_type": "code",
      "execution_count": 27,
      "metadata": {
        "id": "oNwNYcUOQ2EI",
        "outputId": "09615363-d985-4cfa-ee4f-9940b2c056e9",
        "colab": {
          "base_uri": "https://localhost:8080/"
        }
      },
      "outputs": [
        {
          "output_type": "stream",
          "name": "stdout",
          "text": [
            "defaultdict(None, {'e': 0, 'b': 1, 't': 2, 'm': 3})\n"
          ]
        }
      ],
      "source": [
        "print(LABEL.vocab.stoi)"
      ]
    },
    {
      "cell_type": "code",
      "execution_count": 28,
      "metadata": {
        "id": "jt55pscgFdKZ"
      },
      "outputs": [],
      "source": [
        "import spacy\n",
        "\n",
        "\n",
        "nlp = spacy.blank(\"en\")\n",
        "\n",
        "def predict(model, sentence):\n",
        "\n",
        "    model.eval()\n",
        "    \n",
        "    with torch.no_grad():\n",
        "        tokenized = [tok.text for tok in nlp.tokenizer(sentence)]\n",
        "        indexed = [TEXT.vocab.stoi[t] for t in tokenized]\n",
        "        length = [len(indexed)]\n",
        "        tensor = torch.LongTensor(indexed).to(DEVICE)\n",
        "        tensor = tensor.unsqueeze(1)\n",
        "        length_tensor = torch.LongTensor(length)\n",
        "        predict_probas = torch.nn.functional.softmax(model(tensor, length_tensor), dim=1)\n",
        "        predicted_label_index = torch.argmax(predict_probas)\n",
        "        predicted_label_proba = torch.max(predict_probas)\n",
        "        return predicted_label_index.item(), predicted_label_proba.item()\n",
        "\n",
        "\n",
        "class_mapping = LABEL.vocab.stoi\n",
        "inverse_class_mapping = {v: k for k, v in class_mapping.items()}"
      ]
    },
    {
      "cell_type": "code",
      "execution_count": 29,
      "metadata": {
        "id": "pg_qXtZgQ2EJ",
        "outputId": "f28c3485-5e45-453a-c8f5-b7b70c3b7a03",
        "colab": {
          "base_uri": "https://localhost:8080/"
        }
      },
      "outputs": [
        {
          "output_type": "stream",
          "name": "stdout",
          "text": [
            "Predicted label index: 0 | Predicted label: e | Probability: 0.9649481773376465 \n"
          ]
        }
      ],
      "source": [
        "predicted_label_index, predicted_label_proba = \\\n",
        "    predict(model, \"This is such an awesome movie, I really love it!\")\n",
        "predicted_label = inverse_class_mapping[predicted_label_index]\n",
        "\n",
        "print(f'Predicted label index: {predicted_label_index}'\n",
        "      f' | Predicted label: {predicted_label}'\n",
        "      f' | Probability: {predicted_label_proba} ')"
      ]
    },
    {
      "cell_type": "code",
      "execution_count": 30,
      "metadata": {
        "id": "_eWgz3_2Q2EJ",
        "outputId": "735c2b3e-b0f6-4a83-b6a6-dcf25968a8d4",
        "colab": {
          "base_uri": "https://localhost:8080/"
        }
      },
      "outputs": [
        {
          "output_type": "stream",
          "name": "stdout",
          "text": [
            "Predicted label index: 0 | Predicted label: e | Probability: 0.9781363606452942 \n"
          ]
        }
      ],
      "source": [
        "predicted_label_index, predicted_label_proba = \\\n",
        "    predict(model, \"I really hate this movie. It is really bad and sucks!\")\n",
        "predicted_label = inverse_class_mapping[predicted_label_index]\n",
        "\n",
        "print(f'Predicted label index: {predicted_label_index}'\n",
        "      f' | Predicted label: {predicted_label}'\n",
        "      f' | Probability: {predicted_label_proba} ')"
      ]
    }
  ],
  "metadata": {
    "colab": {
      "collapsed_sections": [],
      "provenance": []
    },
    "kernelspec": {
      "display_name": "Python 3",
      "language": "python",
      "name": "python3"
    },
    "language_info": {
      "codemirror_mode": {
        "name": "ipython",
        "version": 3
      },
      "file_extension": ".py",
      "mimetype": "text/x-python",
      "name": "python",
      "nbconvert_exporter": "python",
      "pygments_lexer": "ipython3",
      "version": "3.8.8"
    },
    "gpuClass": "standard"
  },
  "nbformat": 4,
  "nbformat_minor": 0
}